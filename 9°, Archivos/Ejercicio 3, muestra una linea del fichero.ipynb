{
 "cells": [
  {
   "cell_type": "code",
   "execution_count": 31,
   "metadata": {},
   "outputs": [
    {
     "name": "stdout",
     "output_type": "stream",
     "text": [
      "4 x 8 = 32\n"
     ]
    }
   ],
   "source": [
    "n = int(input('Ingrese un numero entero entre 1 y 10:'))\n",
    "m = int(input('Ingrese un numero entero entre 1 y 10:'))\n",
    "\n",
    "if n >= 1 and n <= 10: # Si n esta entre 1 y 10\n",
    "    if m >= 1 and m <= 10: # Si m esta entre 1 y 10\n",
    "        nombre_archivo = 'tabla'+ str(n) + '.txt' # Guarda el nombre del archivo en una variable\n",
    "        try:\n",
    "            f = open(nombre_archivo, 'r') # Accede al archivo con la opcion de leerlo\n",
    "            for i in range(m): \n",
    "                linea = f.readline() # Guarda cada linea del archivo en una variable\n",
    "                if i == m - 1: # Si i es igual a la linea m\n",
    "                    print(linea.strip()) # Imprime la linea que buscabamos\n",
    "                \n",
    "        except FileNotFoundError: # Exepcion en caso de que el archivo no exista\n",
    "            print('El archivo no existe')\n",
    "\n",
    "        finally: \n",
    "            f.close() # Cierra el archivo\n",
    "    else: # Si m no esta entre 1 y 10\n",
    "        print('El segundo numero no esta entre 1 y 10')\n",
    "else: # Si n no esta entre 1 y 10\n",
    "    print('El primer numero no esta entre 1 y 10')"
   ]
  }
 ],
 "metadata": {
  "kernelspec": {
   "display_name": "Python 3",
   "language": "python",
   "name": "python3"
  },
  "language_info": {
   "codemirror_mode": {
    "name": "ipython",
    "version": 3
   },
   "file_extension": ".py",
   "mimetype": "text/x-python",
   "name": "python",
   "nbconvert_exporter": "python",
   "pygments_lexer": "ipython3",
   "version": "3.12.5"
  }
 },
 "nbformat": 4,
 "nbformat_minor": 2
}
