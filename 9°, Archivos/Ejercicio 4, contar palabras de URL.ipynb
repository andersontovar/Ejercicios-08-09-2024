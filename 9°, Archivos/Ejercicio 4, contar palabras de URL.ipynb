{
 "cells": [
  {
   "cell_type": "code",
   "execution_count": 59,
   "metadata": {},
   "outputs": [],
   "source": [
    "def contar_palabras(url):\n",
    "    from urllib import request # Importa el modulo requet que proporciona para abrir y leer URLS\n",
    "    from urllib.error import URLError # Importa URLError en casa de que alla una error en la ruta\n",
    "\n",
    "    try:\n",
    "        with request.urlopen(url) as f: # Intenta entrar al url dado\n",
    "            contenido = f.read() # Guarda el contenido del url en una variable\n",
    "        return print(f'EL url contiene {len(contenido.split()):,} palabras') # Da el total de palabras que contiene la url\n",
    "\n",
    "    except URLError: # En caso de que el url no exista, maneja la excepcion\n",
    "        return print(f'La url {url} no existe')"
   ]
  },
  {
   "cell_type": "code",
   "execution_count": 61,
   "metadata": {},
   "outputs": [
    {
     "name": "stdout",
     "output_type": "stream",
     "text": [
      "EL url contiene 389,719 palabras\n",
      "La url https://no-existe.txt no existe\n"
     ]
    }
   ],
   "source": [
    "contar_palabras('https://www.gutenberg.org/files/2000/2000-0.txt')\n",
    "contar_palabras('https://no-existe.txt')"
   ]
  }
 ],
 "metadata": {
  "kernelspec": {
   "display_name": "Python 3",
   "language": "python",
   "name": "python3"
  },
  "language_info": {
   "codemirror_mode": {
    "name": "ipython",
    "version": 3
   },
   "file_extension": ".py",
   "mimetype": "text/x-python",
   "name": "python",
   "nbconvert_exporter": "python",
   "pygments_lexer": "ipython3",
   "version": "3.12.5"
  }
 },
 "nbformat": 4,
 "nbformat_minor": 2
}
