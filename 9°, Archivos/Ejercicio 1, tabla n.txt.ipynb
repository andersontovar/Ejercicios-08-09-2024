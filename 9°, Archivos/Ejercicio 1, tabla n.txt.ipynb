{
 "cells": [
  {
   "cell_type": "code",
   "execution_count": 11,
   "metadata": {},
   "outputs": [],
   "source": [
    "n = int(input('Ingrese un numero entre 1 y 10: ')) # PIde un numero entre 1 a 11 y lo convierte a entero\n",
    "\n",
    "nombre_fichero = 'tabla' + str(n) + '.txt'\n",
    "f = open(nombre_fichero, 'w') # Crea un fichero o lo modifica en caso de que ya exista\n",
    "for i in range(1, 11):\n",
    "    f.write(f'{n} x {i} = {n*i}' + '\\n') # Multiplica n * i lo guarda en formato de tabla\n",
    "f.close() # Cierra el fichero"
   ]
  }
 ],
 "metadata": {
  "kernelspec": {
   "display_name": "Python 3",
   "language": "python",
   "name": "python3"
  },
  "language_info": {
   "codemirror_mode": {
    "name": "ipython",
    "version": 3
   },
   "file_extension": ".py",
   "mimetype": "text/x-python",
   "name": "python",
   "nbconvert_exporter": "python",
   "pygments_lexer": "ipython3",
   "version": "3.12.5"
  }
 },
 "nbformat": 4,
 "nbformat_minor": 2
}
