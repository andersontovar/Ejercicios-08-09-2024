{
 "cells": [
  {
   "cell_type": "code",
   "execution_count": 6,
   "metadata": {},
   "outputs": [
    {
     "name": "stdout",
     "output_type": "stream",
     "text": [
      "El archivo no existe\n"
     ]
    }
   ],
   "source": [
    "n = int(input('Ingrese un numero entero entre 1 y 10: ')) # Pide un numero entero entre 1 y 11\n",
    "\n",
    "if n <= 10: # Se ejecuta solo si n es menor o igual a 10\n",
    "    nombre_archivo = 'tabla' + str(n) + '.txt' # Guarda en una variable ell nombre del archivo que queremos acceder\n",
    "    try:\n",
    "        f = open(nombre_archivo, 'r') # Abre el archivo con la opcion de leerlo\n",
    "        print(f.read()) # Imprime el contenido del archivo\n",
    "    except FileNotFoundError: # Da una excepcion si el archivo no existe\n",
    "        print('El archivo no existe')\n",
    "    finally:\n",
    "        f.close() # Cierra el archivo\n",
    "else:\n",
    "    print('El numero debe estar entre 1 y 10')"
   ]
  }
 ],
 "metadata": {
  "kernelspec": {
   "display_name": "Python 3",
   "language": "python",
   "name": "python3"
  },
  "language_info": {
   "codemirror_mode": {
    "name": "ipython",
    "version": 3
   },
   "file_extension": ".py",
   "mimetype": "text/x-python",
   "name": "python",
   "nbconvert_exporter": "python",
   "pygments_lexer": "ipython3",
   "version": "3.12.5"
  }
 },
 "nbformat": 4,
 "nbformat_minor": 2
}
